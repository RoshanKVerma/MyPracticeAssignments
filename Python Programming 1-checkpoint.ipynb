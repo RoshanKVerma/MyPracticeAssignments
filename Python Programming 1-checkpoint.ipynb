{
 "cells": [
  {
   "cell_type": "markdown",
   "id": "e40039f6",
   "metadata": {},
   "source": [
    "Programming_Basic1"
   ]
  },
  {
   "cell_type": "markdown",
   "id": "e2514c08",
   "metadata": {},
   "source": [
    "1.\tWrite a Python program to print \"Hello Python\"?"
   ]
  },
  {
   "cell_type": "code",
   "execution_count": 1,
   "id": "a4890ebc",
   "metadata": {},
   "outputs": [
    {
     "name": "stdout",
     "output_type": "stream",
     "text": [
      "Hello Python\n"
     ]
    }
   ],
   "source": [
    "print('Hello Python')"
   ]
  },
  {
   "cell_type": "markdown",
   "id": "ece339c1",
   "metadata": {},
   "source": [
    "2.\tWrite a Python program to do arithmetical operations addition and division.?"
   ]
  },
  {
   "cell_type": "code",
   "execution_count": 2,
   "id": "987b069d",
   "metadata": {},
   "outputs": [
    {
     "name": "stdout",
     "output_type": "stream",
     "text": [
      "x45\n",
      "y9\n",
      "Addition= 54\n",
      "Division= 5.0\n"
     ]
    }
   ],
   "source": [
    "x=int(input('x'))\n",
    "y=int(input('y'))\n",
    "Addition = x+y\n",
    "Division = x/y\n",
    "print('Addition=',Addition)\n",
    "print('Division=',Division)"
   ]
  },
  {
   "cell_type": "markdown",
   "id": "7d5bac8f",
   "metadata": {},
   "source": [
    "3.\tWrite a Python program to find the area of a triangle?"
   ]
  },
  {
   "cell_type": "code",
   "execution_count": 3,
   "id": "29202427",
   "metadata": {},
   "outputs": [
    {
     "name": "stdout",
     "output_type": "stream",
     "text": [
      "base4\n",
      "height2\n",
      "Area of Triangle= 4.0\n"
     ]
    }
   ],
   "source": [
    "b=int(input('base'))\n",
    "h=int(input('height'))\n",
    "Area=0.5*b*h\n",
    "print('Area of Triangle=',Area)"
   ]
  },
  {
   "cell_type": "markdown",
   "id": "e16f8ea7",
   "metadata": {},
   "source": [
    "4.\tWrite a Python program to swap two variables?"
   ]
  },
  {
   "cell_type": "code",
   "execution_count": 4,
   "id": "145f4138",
   "metadata": {},
   "outputs": [
    {
     "name": "stdout",
     "output_type": "stream",
     "text": [
      "input first number3\n",
      "input secound number2\n",
      "Before swap a= 3\n",
      "Before swap b= 2\n",
      "After swap a= 2\n",
      "After swap b= 3\n"
     ]
    }
   ],
   "source": [
    "a=int(input('input first number'))\n",
    "b=int(input('input secound number'))\n",
    "print('Before swap a=',a)\n",
    "print('Before swap b=',b)\n",
    "temp=a\n",
    "a=b\n",
    "b=temp\n",
    "print('After swap a=',a)\n",
    "print('After swap b=',b)"
   ]
  },
  {
   "cell_type": "markdown",
   "id": "8e72d5b0",
   "metadata": {},
   "source": [
    "5.\tWrite a Python program to generate a random number?"
   ]
  },
  {
   "cell_type": "code",
   "execution_count": 5,
   "id": "15171cff",
   "metadata": {},
   "outputs": [
    {
     "name": "stdout",
     "output_type": "stream",
     "text": [
      "73\n"
     ]
    }
   ],
   "source": [
    "import random\n",
    "\n",
    "randomNum = random.randint(0,100)\n",
    "print(randomNum)"
   ]
  }
 ],
 "metadata": {
  "kernelspec": {
   "display_name": "Python 3 (ipykernel)",
   "language": "python",
   "name": "python3"
  },
  "language_info": {
   "codemirror_mode": {
    "name": "ipython",
    "version": 3
   },
   "file_extension": ".py",
   "mimetype": "text/x-python",
   "name": "python",
   "nbconvert_exporter": "python",
   "pygments_lexer": "ipython3",
   "version": "3.9.7"
  }
 },
 "nbformat": 4,
 "nbformat_minor": 5
}
